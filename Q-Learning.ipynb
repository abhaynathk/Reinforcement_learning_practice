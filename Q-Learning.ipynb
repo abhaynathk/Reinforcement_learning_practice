{
 "cells": [
  {
   "cell_type": "code",
   "execution_count": 1,
   "metadata": {},
   "outputs": [],
   "source": [
    "#pip install gym\n",
    "#24MAI0114 ABHAYNATHK"
   ]
  },
  {
   "cell_type": "code",
   "execution_count": 2,
   "metadata": {},
   "outputs": [],
   "source": [
    "#pip install torch torchvision\n",
    "#24MAI0114 ABHAYNATHK"
   ]
  },
  {
   "cell_type": "code",
   "execution_count": 3,
   "metadata": {},
   "outputs": [],
   "source": [
    "import numpy as np\n",
    "import random\n",
    "#24MAI0114 ABHAYNATHK"
   ]
  },
  {
   "cell_type": "code",
   "execution_count": 4,
   "metadata": {},
   "outputs": [],
   "source": [
    "#24MAI0114 ABHAYNATHK\n",
    "class Simple1DEnvironment:  \n",
    "    def __init__(self, size=10, goal_position=9):  \n",
    "        self.size = size  \n",
    "        self.goal_position = goal_position  \n",
    "        self.state = 0  \n",
    "\n",
    "    def reset(self):  \n",
    "        self.state = 0  \n",
    "        return self.state  \n",
    "\n",
    "    def step(self, action):  \n",
    "        if action == 0:  # move left  \n",
    "            self.state = max(0, self.state - 1)  \n",
    "        elif action == 1:  # move right  \n",
    "            self.state = min(self.size - 1, self.state + 1)  \n",
    "\n",
    "        reward = 1 if self.state == self.goal_position else -0.1  \n",
    "        done = self.state == self.goal_position  \n",
    "        return self.state, reward, done  \n",
    "\n"
   ]
  },
  {
   "cell_type": "code",
   "execution_count": 5,
   "metadata": {},
   "outputs": [],
   "source": [
    "#24MAI0114 ABHAYNATHK\n",
    "class QLearningAgent:  \n",
    "    def __init__(self, state_size, action_size, learning_rate=0.1, discount_factor=0.95, exploration_rate=1.0, exploration_decay=0.995):  \n",
    "        self.state_size = state_size  \n",
    "        self.action_size = action_size  \n",
    "        self.q_table = np.zeros((state_size, action_size))  \n",
    "        self.learning_rate = learning_rate  \n",
    "        self.discount_factor = discount_factor  \n",
    "        self.exploration_rate = exploration_rate  \n",
    "        self.exploration_decay = exploration_decay  \n",
    "        self.exploration_min = 0.01  \n",
    "\n",
    "    def choose_action(self, state):  \n",
    "        if np.random.rand() < self.exploration_rate:  \n",
    "            return random.choice(range(self.action_size))  \n",
    "        return np.argmax(self.q_table[state])  \n",
    "\n",
    "    def learn(self, state, action, reward, next_state, done):  \n",
    "        best_next_action = np.argmax(self.q_table[next_state])  \n",
    "        td_target = reward + self.discount_factor * self.q_table[next_state][best_next_action] * (not done)  \n",
    "        td_error = td_target - self.q_table[state][action]  \n",
    "        self.q_table[state][action] += self.learning_rate * td_error  \n",
    "        if done:  \n",
    "            self.exploration_rate = max(self.exploration_min, self.exploration_rate * self.exploration_decay)  \n"
   ]
  },
  {
   "cell_type": "code",
   "execution_count": 6,
   "metadata": {},
   "outputs": [
    {
     "name": "stdout",
     "output_type": "stream",
     "text": [
      "Episode 0, Exploration Rate: 0.99\n",
      "Episode 100, Exploration Rate: 0.60\n",
      "Episode 200, Exploration Rate: 0.37\n",
      "Episode 300, Exploration Rate: 0.22\n",
      "Episode 400, Exploration Rate: 0.13\n",
      "Episode 500, Exploration Rate: 0.08\n",
      "Episode 600, Exploration Rate: 0.05\n",
      "Episode 700, Exploration Rate: 0.03\n",
      "Episode 800, Exploration Rate: 0.02\n",
      "Episode 900, Exploration Rate: 0.01\n"
     ]
    }
   ],
   "source": [
    "#24MAI0114 ABHAYNATHK\n",
    "# Training the agent  \n",
    "env = Simple1DEnvironment()  \n",
    "agent = QLearningAgent(state_size=env.size, action_size=2)  \n",
    "\n",
    "episodes = 1000  \n",
    "for e in range(episodes):  \n",
    "    state = env.reset()  \n",
    "    done = False  \n",
    "    while not done:  \n",
    "        action = agent.choose_action(state)  \n",
    "        next_state, reward, done = env.step(action)  \n",
    "        agent.learn(state, action, reward, next_state, done)  \n",
    "        state = next_state  \n",
    "    if e % 100 == 0:  \n",
    "        print(f\"Episode {e}, Exploration Rate: {agent.exploration_rate:.2f}\")  \n"
   ]
  },
  {
   "cell_type": "code",
   "execution_count": 7,
   "metadata": {},
   "outputs": [
    {
     "name": "stdout",
     "output_type": "stream",
     "text": [
      "State: 1, Action: 1, Reward: -0.1\n",
      "State: 2, Action: 1, Reward: -0.1\n",
      "State: 3, Action: 1, Reward: -0.1\n",
      "State: 4, Action: 1, Reward: -0.1\n",
      "State: 5, Action: 1, Reward: -0.1\n",
      "State: 6, Action: 1, Reward: -0.1\n",
      "State: 7, Action: 1, Reward: -0.1\n",
      "State: 8, Action: 1, Reward: -0.1\n",
      "State: 9, Action: 1, Reward: 1\n",
      "Goal reached!\n"
     ]
    }
   ],
   "source": [
    "#24MAI0114 ABHAYNATHK\n",
    "# Test the trained agent  \n",
    "state = env.reset()  \n",
    "done = False  \n",
    "while not done:  \n",
    "    action = agent.choose_action(state)  \n",
    "    state, reward, done = env.step(action)  \n",
    "    print(f\"State: {state}, Action: {action}, Reward: {reward}\")  \n",
    "\n",
    "print(\"Goal reached!\")\n"
   ]
  },
  {
   "cell_type": "markdown",
   "metadata": {},
   "source": [
    "#24MAI0114 ABHAYNATHK\n",
    "\n",
    "\n",
    "Hyper parameter Tuning to imporve the model"
   ]
  },
  {
   "cell_type": "markdown",
   "metadata": {},
   "source": [
    "1. Exploration-Exploitation Balance:\n",
    "Exploration Rate (exploration_rate): The agent starts by exploring, but over time it needs to exploit learned knowledge.\n",
    "What you can change: Start with a higher exploration rate or experiment with different decay strategies. A slower decay (increase exploration_decay slightly) can help the agent explore longer, especially in complex environments.\n",
    "\n",
    "2. Learning Rate (learning_rate):\n",
    "Impact: The learning rate controls how much new information overrides old information.\n",
    "What you can change: A lower learning rate can help the agent avoid overreacting to new information, but a higher learning rate allows faster learning. Adjust based on how fast or slow the agent is learning.\n",
    "\n",
    "3. Discount Factor (discount_factor):\n",
    "Impact: This controls how much the agent values future rewards over immediate rewards. A higher discount factor prioritizes long-term gains.\n",
    "What you can change: Try lowering the discount factor if the environment is more short-term reward oriented, or increase it if the agent needs to focus on long-term goals.``"
   ]
  },
  {
   "cell_type": "markdown",
   "metadata": {},
   "source": [
    "Hyper Parametert Tuned Code"
   ]
  },
  {
   "cell_type": "code",
   "execution_count": 8,
   "metadata": {},
   "outputs": [],
   "source": [
    "#24MAI0114 ABHAYNATHK\n",
    "#increasing the learning rate from 0.1 to 0.2 to fasten the learninf process\n",
    "#increase the Discout factor to focus on long term goals (0.95 to 0.98)\n",
    "#increasing exploration_decay slightly to help the agent to explore longer\n",
    "class QLearningAgent:  \n",
    "    def __init__(self, state_size, action_size, learning_rate=0.2, discount_factor=0.98, exploration_rate=1.0, exploration_decay=0.997):  \n",
    "        self.state_size = state_size  \n",
    "        self.action_size = action_size  \n",
    "        self.q_table = np.zeros((state_size, action_size))  \n",
    "        self.learning_rate = learning_rate  \n",
    "        self.discount_factor = discount_factor  \n",
    "        self.exploration_rate = exploration_rate  \n",
    "        self.exploration_decay = exploration_decay  \n",
    "        self.exploration_min = 0.01  \n",
    "\n",
    "    def choose_action(self, state):  \n",
    "        if np.random.rand() < self.exploration_rate:  \n",
    "            return random.choice(range(self.action_size))  \n",
    "        return np.argmax(self.q_table[state])  \n",
    "\n",
    "    def learn(self, state, action, reward, next_state, done):  \n",
    "        best_next_action = np.argmax(self.q_table[next_state])  \n",
    "        td_target = reward + self.discount_factor * self.q_table[next_state][best_next_action] * (not done)  \n",
    "        td_error = td_target - self.q_table[state][action]  \n",
    "        self.q_table[state][action] += self.learning_rate * td_error  \n",
    "        if done:  \n",
    "            self.exploration_rate = max(self.exploration_min, self.exploration_rate * self.exploration_decay)  \n"
   ]
  },
  {
   "cell_type": "markdown",
   "metadata": {},
   "source": [
    "Episodes Length and Number:\n",
    "Impact: The agent might need more episodes or longer training durations to learn effectively in more complex environments.\n",
    "What you can change: Increase the number of episodes or adjust how early an episode terminates (currently done when the agent reaches the goal)."
   ]
  },
  {
   "cell_type": "code",
   "execution_count": 9,
   "metadata": {},
   "outputs": [
    {
     "name": "stdout",
     "output_type": "stream",
     "text": [
      "Episode 0, Exploration Rate: 1.00\n",
      "Episode 100, Exploration Rate: 0.74\n",
      "Episode 200, Exploration Rate: 0.55\n",
      "Episode 300, Exploration Rate: 0.40\n",
      "Episode 400, Exploration Rate: 0.30\n",
      "Episode 500, Exploration Rate: 0.22\n",
      "Episode 600, Exploration Rate: 0.16\n",
      "Episode 700, Exploration Rate: 0.12\n",
      "Episode 800, Exploration Rate: 0.09\n",
      "Episode 900, Exploration Rate: 0.07\n",
      "Episode 1000, Exploration Rate: 0.05\n",
      "Episode 1100, Exploration Rate: 0.04\n",
      "Episode 1200, Exploration Rate: 0.03\n",
      "Episode 1300, Exploration Rate: 0.02\n",
      "Episode 1400, Exploration Rate: 0.01\n",
      "Episode 1500, Exploration Rate: 0.01\n",
      "Episode 1600, Exploration Rate: 0.01\n",
      "Episode 1700, Exploration Rate: 0.01\n",
      "Episode 1800, Exploration Rate: 0.01\n",
      "Episode 1900, Exploration Rate: 0.01\n"
     ]
    }
   ],
   "source": [
    "#24MAI0114 ABHAYNATHK\n",
    "#Increasing the episode numbers into 2000\n",
    "# Training the agent  \n",
    "env = Simple1DEnvironment()  \n",
    "agent = QLearningAgent(state_size=env.size, action_size=2)  \n",
    "\n",
    "episodes = 2000  \n",
    "for e in range(episodes):  \n",
    "    state = env.reset()  \n",
    "    done = False  \n",
    "    while not done:  \n",
    "        action = agent.choose_action(state)  \n",
    "        next_state, reward, done = env.step(action)  \n",
    "        agent.learn(state, action, reward, next_state, done)  \n",
    "        state = next_state  \n",
    "    if e % 100 == 0:  \n",
    "        print(f\"Episode {e}, Exploration Rate: {agent.exploration_rate:.2f}\")  \n"
   ]
  },
  {
   "cell_type": "markdown",
   "metadata": {},
   "source": [
    "``Testing the model with new parameters``"
   ]
  },
  {
   "cell_type": "code",
   "execution_count": 10,
   "metadata": {},
   "outputs": [
    {
     "name": "stdout",
     "output_type": "stream",
     "text": [
      "State: 1, Action: 1, Reward: -0.1\n",
      "State: 2, Action: 1, Reward: -0.1\n",
      "State: 3, Action: 1, Reward: -0.1\n",
      "State: 4, Action: 1, Reward: -0.1\n",
      "State: 5, Action: 1, Reward: -0.1\n",
      "State: 6, Action: 1, Reward: -0.1\n",
      "State: 7, Action: 1, Reward: -0.1\n",
      "State: 8, Action: 1, Reward: -0.1\n",
      "State: 9, Action: 1, Reward: 1\n",
      "Goal reached!\n"
     ]
    }
   ],
   "source": [
    "#24MAI0114 ABHAYNATHK\n",
    "# Test the trained agent  \n",
    "state = env.reset()  \n",
    "done = False  \n",
    "while not done:  \n",
    "    action = agent.choose_action(state)  \n",
    "    state, reward, done = env.step(action)  \n",
    "    print(f\"State: {state}, Action: {action}, Reward: {reward}\")  \n",
    "\n",
    "print(\"Goal reached!\")\n"
   ]
  },
  {
   "cell_type": "markdown",
   "metadata": {},
   "source": [
    "``Now try to change the stratergy in choosing the Action``"
   ]
  },
  {
   "cell_type": "markdown",
   "metadata": {},
   "source": [
    "Action Selection Strategy:\n",
    "Impact: Currently, you use an epsilon-greedy approach for action selection.\n",
    "What you can change: Instead of just using random action selection during exploration, you could experiment with softmax exploration (Boltzmann distribution) or Upper Confidence Bound (UCB) for better action selection."
   ]
  },
  {
   "cell_type": "code",
   "execution_count": 11,
   "metadata": {},
   "outputs": [],
   "source": [
    "#24MAI0114 ABHAYNATHK\n",
    "class QLearningAgent:\n",
    "    def __init__(self, state_size, action_size, learning_rate=0.1, discount_factor=0.95, exploration_rate=1.0, exploration_decay=0.995):\n",
    "        self.state_size = state_size\n",
    "        self.action_size = action_size\n",
    "        self.q_table = np.zeros((state_size, action_size))\n",
    "        self.learning_rate = learning_rate\n",
    "        self.discount_factor = discount_factor\n",
    "        self.exploration_rate = exploration_rate\n",
    "        self.exploration_decay = exploration_decay\n",
    "        self.exploration_min = 0.01\n",
    "\n",
    "    def choose_action(self, state, strategy=\"epsilon_greedy\", temperature=1.0):\n",
    "        if strategy == \"epsilon_greedy\":\n",
    "            # Epsilon-greedy action selection\n",
    "            if np.random.rand() < self.exploration_rate:\n",
    "                return random.choice(range(self.action_size))\n",
    "            return np.argmax(self.q_table[state])\n",
    "        elif strategy == \"softmax\":\n",
    "            # Softmax action selection\n",
    "            q_values = self.q_table[state]\n",
    "            exp_q_values = np.exp(q_values / temperature)\n",
    "            probabilities = exp_q_values / np.sum(exp_q_values)\n",
    "            return np.random.choice(range(self.action_size), p=probabilities)\n",
    "    def learn(self, state, action, reward, next_state, done):\n",
    "        best_next_action = np.argmax(self.q_table[next_state])\n",
    "        td_target = reward + self.discount_factor * self.q_table[next_state][best_next_action] * (not done)\n",
    "        td_error = td_target - self.q_table[state][action]\n",
    "        self.q_table[state][action] += self.learning_rate * td_error\n",
    "        if done:\n",
    "            self.exploration_rate = max(self.exploration_min, self.exploration_rate * self.exploration_decay)\n"
   ]
  },
  {
   "cell_type": "code",
   "execution_count": 12,
   "metadata": {},
   "outputs": [
    {
     "name": "stdout",
     "output_type": "stream",
     "text": [
      "Episode 0, Exploration Rate: 0.99\n",
      "Episode 100, Exploration Rate: 0.60\n",
      "Episode 200, Exploration Rate: 0.37\n",
      "Episode 300, Exploration Rate: 0.22\n",
      "Episode 400, Exploration Rate: 0.13\n",
      "Episode 500, Exploration Rate: 0.08\n",
      "Episode 600, Exploration Rate: 0.05\n",
      "Episode 700, Exploration Rate: 0.03\n",
      "Episode 800, Exploration Rate: 0.02\n",
      "Episode 900, Exploration Rate: 0.01\n",
      "Episode 1000, Exploration Rate: 0.01\n",
      "Episode 1100, Exploration Rate: 0.01\n",
      "Episode 1200, Exploration Rate: 0.01\n",
      "Episode 1300, Exploration Rate: 0.01\n",
      "Episode 1400, Exploration Rate: 0.01\n",
      "Episode 1500, Exploration Rate: 0.01\n",
      "Episode 1600, Exploration Rate: 0.01\n",
      "Episode 1700, Exploration Rate: 0.01\n",
      "Episode 1800, Exploration Rate: 0.01\n",
      "Episode 1900, Exploration Rate: 0.01\n"
     ]
    }
   ],
   "source": [
    "#24MAI0114 ABHAYNATHK\n",
    "# Training the agent and tracking progress\n",
    "env = Simple1DEnvironment()\n",
    "agent = QLearningAgent(state_size=env.size, action_size=2)\n",
    "\n",
    "episodes = 2000\n",
    "rewards_per_episode = []\n",
    "steps_per_episode = []\n",
    "\n",
    "for e in range(episodes):\n",
    "    state = env.reset()\n",
    "    total_reward = 0\n",
    "    steps = 0\n",
    "    done = False\n",
    "    while not done:\n",
    "        action = agent.choose_action(state, strategy=\"softmax\", temperature=1.0)  # Using softmax\n",
    "        next_state, reward, done = env.step(action)\n",
    "        agent.learn(state, action, reward, next_state, done)\n",
    "        state = next_state\n",
    "        total_reward += reward\n",
    "        steps += 1\n",
    "\n",
    "    rewards_per_episode.append(total_reward)\n",
    "    steps_per_episode.append(steps)\n",
    "    if e % 100 == 0:\n",
    "        print(f\"Episode {e}, Exploration Rate: {agent.exploration_rate:.2f}\")"
   ]
  },
  {
   "cell_type": "markdown",
   "metadata": {},
   "source": [
    "``Testing the model after changing the stratergy to choose action``"
   ]
  },
  {
   "cell_type": "code",
   "execution_count": 13,
   "metadata": {},
   "outputs": [
    {
     "name": "stdout",
     "output_type": "stream",
     "text": [
      "State: 1, Action: 1, Reward: -0.1\n",
      "State: 2, Action: 1, Reward: -0.1\n",
      "State: 3, Action: 1, Reward: -0.1\n",
      "State: 4, Action: 1, Reward: -0.1\n",
      "State: 5, Action: 1, Reward: -0.1\n",
      "State: 6, Action: 1, Reward: -0.1\n",
      "State: 7, Action: 1, Reward: -0.1\n",
      "State: 8, Action: 1, Reward: -0.1\n",
      "State: 9, Action: 1, Reward: 1\n",
      "Goal reached!\n"
     ]
    }
   ],
   "source": [
    "#24MAI0114 ABHAYNATHK\n",
    "# Test the trained agent  \n",
    "state = env.reset()  \n",
    "done = False  \n",
    "while not done:  \n",
    "    action = agent.choose_action(state)  \n",
    "    state, reward, done = env.step(action)  \n",
    "    print(f\"State: {state}, Action: {action}, Reward: {reward}\")  \n",
    "\n",
    "print(\"Goal reached!\")\n"
   ]
  },
  {
   "cell_type": "markdown",
   "metadata": {},
   "source": [
    "```Plotting the results```"
   ]
  },
  {
   "cell_type": "code",
   "execution_count": 18,
   "metadata": {},
   "outputs": [
    {
     "data": {
      "image/png": "[encoded data removed]",
      "text/plain": [
       "<Figure size 1000x500 with 2 Axes>"
      ]
     },
     "metadata": {},
     "output_type": "display_data"
    }
   ],
   "source": [
    "#24MAI0114 ABHAYNATHK\n",
    "import matplotlib.pyplot as plt\n",
    "# Plot average reward per episode\n",
    "plt.figure(figsize=(10, 5))\n",
    "plt.subplot(1, 2, 1)\n",
    "plt.plot(rewards_per_episode)\n",
    "plt.title(\"24MAI0114 ABHAYNATHK\\nReward per Episode\")\n",
    "plt.xlabel(\"Episodes\")\n",
    "plt.ylabel(\"Total Reward\")\n",
    "\n",
    "# Plot number of steps per episode\n",
    "plt.subplot(1, 2, 2)\n",
    "plt.plot(steps_per_episode)\n",
    "plt.title(\"24MAI0114 ABHAYNATHK\\nSteps per Episode\")\n",
    "plt.xlabel(\"Episodes\")\n",
    "plt.ylabel(\"Number of Steps\")\n",
    "\n",
    "plt.tight_layout()\n",
    "plt.show()"
   ]
  },
  {
   "cell_type": "code",
   "execution_count": null,
   "metadata": {},
   "outputs": [],
   "source": []
  }
 ],
 "metadata": {
  "kernelspec": {
   "display_name": "EDA",
   "language": "python",
   "name": "python3"
  },
  "language_info": {
   "codemirror_mode": {
    "name": "ipython",
    "version": 3
   },
   "file_extension": ".py",
   "mimetype": "text/x-python",
   "name": "python",
   "nbconvert_exporter": "python",
   "pygments_lexer": "ipython3",
   "version": "3.9.16"
  }
 },
 "nbformat": 4,
 "nbformat_minor": 2
}
